{
 "cells": [
  {
   "cell_type": "code",
   "execution_count": 1,
   "metadata": {},
   "outputs": [],
   "source": [
    "import pandas as pd\n",
    "import numpy as np\n",
    "import openpyxl \n",
    "import matplotlib.pyplot as plt\n",
    "from sklearn.preprocessing import PolynomialFeatures\n",
    "from sklearn import linear_model"
   ]
  },
  {
   "cell_type": "code",
   "execution_count": 2,
   "metadata": {},
   "outputs": [
    {
     "name": "stdout",
     "output_type": "stream",
     "text": [
      "------------------------------\n",
      "HEAD\n",
      "------------------------------\n",
      "   date  cases\n",
      "0     1     27\n",
      "1     2     27\n",
      "2     3     27\n",
      "3     4     44\n",
      "4     5     44\n"
     ]
    }
   ],
   "source": [
    "#### LOAD DATA ####\n",
    "data = pd.read_csv(r'C:\\Users\\JustC\\Desktop\\Programming\\DataScience\\CovidReport\\COVID-19-master\\CovidReportv2\\coronaCases.csv', sep=',')\n",
    "data = data[['date','cases']]\n",
    "print('-'*30);print('HEAD');print('-'*30)\n",
    "print(data.head())"
   ]
  },
  {
   "cell_type": "code",
   "execution_count": 3,
   "metadata": {},
   "outputs": [
    {
     "name": "stdout",
     "output_type": "stream",
     "text": [
      "------------------------------\n",
      "PREPARE DATA\n",
      "------------------------------\n"
     ]
    },
    {
     "data": {
      "image/png": "[encoded data removed]",
      "text/plain": [
       "<Figure size 432x288 with 1 Axes>"
      ]
     },
     "metadata": {
      "needs_background": "light"
     },
     "output_type": "display_data"
    }
   ],
   "source": [
    "#### PREPARE DATA ####\n",
    "print('-'*30);print('PREPARE DATA');print('-'*30)\n",
    "x = np.array(data['date']).reshape(-1, 1)\n",
    "y = np.array(data['cases']).reshape(-1, 1)\n",
    "plt.plot(y,'-m')\n",
    "#plt.show()\n",
    "polyFeat = PolynomialFeatures(degree=3)\n",
    "\n",
    "x = polyFeat.fit_transform(x)\n",
    "#print(x)"
   ]
  },
  {
   "cell_type": "code",
   "execution_count": 4,
   "metadata": {},
   "outputs": [
    {
     "name": "stdout",
     "output_type": "stream",
     "text": [
      "------------------------------\n",
      "TRAINING DATA\n",
      "------------------------------\n",
      "Accuracy:99.8 %\n"
     ]
    }
   ],
   "source": [
    "#### TRAINING DATA ####\n",
    "print('-'*30);print('TRAINING DATA');print('-'*30)\n",
    "model = linear_model.LinearRegression()\n",
    "model.fit(x,y)\n",
    "accuracy = model.score(x,y)\n",
    "print(f'Accuracy:{round(accuracy*100,3)} %')\n",
    "y0 = model.predict(x)"
   ]
  },
  {
   "cell_type": "code",
   "execution_count": 5,
   "metadata": {},
   "outputs": [
    {
     "name": "stdout",
     "output_type": "stream",
     "text": [
      "------------------------------\n",
      "PREDICTION\n",
      "------------------------------\n",
      "Prediction – Cases after 75 days:30.34 Million\n"
     ]
    }
   ],
   "source": [
    "#### PREDICTION ####\n",
    "days = 75\n",
    "print('-'*30);print('PREDICTION');print('-'*30)\n",
    "print(f'Prediction – Cases after {days} days:',end='')\n",
    "print(round(int(model.predict(polyFeat.fit_transform([[192+days]])))/1000000,2),'Million')"
   ]
  },
  {
   "cell_type": "code",
   "execution_count": 6,
   "metadata": {},
   "outputs": [
    {
     "data": {
      "image/png": "[encoded data removed]",
      "text/plain": [
       "<Figure size 432x288 with 1 Axes>"
      ]
     },
     "metadata": {
      "needs_background": "light"
     },
     "output_type": "display_data"
    }
   ],
   "source": [
    "x1 = np.array(list(range(1,192+days))).reshape(-1,1)\n",
    "y1 = model.predict(polyFeat.fit_transform(x1))\n",
    "plt.title(\"Prediction Analysis\")\n",
    "plt.plot(y1,'r', linestyle='dashed')\n",
    "plt.plot(y0,'b')\n",
    "plt.xlabel(\"Days after 1/1/2020\")\n",
    "plt.ylabel(\"Number Of Cases\")\n",
    "plt.show()"
   ]
  }
 ],
 "metadata": {
  "kernelspec": {
   "display_name": "Python 3.10.1 64-bit",
   "language": "python",
   "name": "python3"
  },
  "language_info": {
   "codemirror_mode": {
    "name": "ipython",
    "version": 3
   },
   "file_extension": ".py",
   "mimetype": "text/x-python",
   "name": "python",
   "nbconvert_exporter": "python",
   "pygments_lexer": "ipython3",
   "version": "3.10.1"
  },
  "orig_nbformat": 4,
  "vscode": {
   "interpreter": {
    "hash": "4537a542c59a0db86458d409d960a4ad6664df5d3361e34bc8387f89f12c861d"
   }
  }
 },
 "nbformat": 4,
 "nbformat_minor": 2
}
